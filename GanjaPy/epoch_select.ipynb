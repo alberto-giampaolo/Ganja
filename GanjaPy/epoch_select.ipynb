{
 "cells": [
  {
   "cell_type": "code",
   "execution_count": 1,
   "metadata": {},
   "outputs": [
    {
     "name": "stderr",
     "output_type": "stream",
     "text": [
      "Using TensorFlow backend.\n"
     ]
    }
   ],
   "source": [
    "%matplotlib inline\n",
    "import numpy as np\n",
    "import pandas as pd\n",
    "import matplotlib.pyplot as plt\n",
    "import ganja.plotting as plotting\n",
    "from scipy import stats\n",
    "\n",
    "import matplotlib\n",
    "matplotlib.style.use('seaborn-poster')"
   ]
  },
  {
   "cell_type": "code",
   "execution_count": 2,
   "metadata": {},
   "outputs": [
    {
     "name": "stdout",
     "output_type": "stream",
     "text": [
      "Opening log/rerun_unnorm__nt4_nob_l2_sm_wtot_gtot_tau1m5_gtau5_df4_gan_lrdecg1m7_lw1/valid_50k_0.hd5 in read-only mode\n",
      "Opening log/rerun_unnorm__nt4_nob_l2_sm_wtot_gtot_tau1m5_gtau5_df4_gan_lrdecg1m7_lw1/valid_50k_1.hd5 in read-only mode\n",
      "Opening log/rerun_unnorm__nt4_nob_l2_sm_wtot_gtot_tau1m5_gtau5_df4_gan_lrdecg1m7_lw1/valid_50k_2.hd5 in read-only mode\n",
      "Opening log/rerun_unnorm__nt4_nob_l2_sm_wtot_gtot_tau1m5_gtau5_df4_gan_lrdecg1m7_lw1/valid_50k_3.hd5 in read-only mode\n",
      "Opening log/rerun_unnorm__nt4_nob_l2_sm_wtot_gtot_tau1m5_gtau5_df4_gan_lrdecg1m7_lw1/valid_50k_4.hd5 in read-only mode\n",
      "Opening log/rerun_unnorm__nt4_nob_l2_sm_wtot_gtot_tau1m5_gtau5_df4_gan_lrdecg1m7_lw1/valid_50k_5.hd5 in read-only mode\n",
      "Opening log/rerun_unnorm__nt4_nob_l2_sm_wtot_gtot_tau1m5_gtau5_df4_gan_lrdecg1m7_lw1/valid_50k_6.hd5 in read-only mode\n",
      "Opening log/rerun_unnorm__nt4_nob_l2_sm_wtot_gtot_tau1m5_gtau5_df4_gan_lrdecg1m7_lw1/valid_50k_7.hd5 in read-only mode\n",
      "Opening log/rerun_unnorm__nt4_nob_l2_sm_wtot_gtot_tau1m5_gtau5_df4_gan_lrdecg1m7_lw1/valid_50k_8.hd5 in read-only mode\n",
      "Opening log/rerun_unnorm__nt4_nob_l2_sm_wtot_gtot_tau1m5_gtau5_df4_gan_lrdecg1m7_lw1/valid_50k_9.hd5 in read-only mode\n",
      "Opening log/rerun_unnorm__nt4_nob_l2_sm_wtot_gtot_tau1m5_gtau5_df4_gan_lrdecg1m7_lw1/valid_50k_11.hd5 in read-only mode\n",
      "Opening log/rerun_unnorm__nt4_nob_l2_sm_wtot_gtot_tau1m5_gtau5_df4_gan_lrdecg1m7_lw1/valid_50k_12.hd5 in read-only mode\n",
      "Opening log/rerun_unnorm__nt4_nob_l2_sm_wtot_gtot_tau1m5_gtau5_df4_gan_lrdecg1m7_lw1/valid_50k_13.hd5 in read-only mode\n",
      "Opening log/rerun_unnorm__nt4_nob_l2_sm_wtot_gtot_tau1m5_gtau5_df4_gan_lrdecg1m7_lw1/valid_50k_14.hd5 in read-only mode\n",
      "Opening log/rerun_unnorm__nt4_nob_l2_sm_wtot_gtot_tau1m5_gtau5_df4_gan_lrdecg1m7_lw1/valid_50k_15.hd5 in read-only mode\n",
      "Opening log/rerun_unnorm__nt4_nob_l2_sm_wtot_gtot_tau1m5_gtau5_df4_gan_lrdecg1m7_lw1/valid_50k_16.hd5 in read-only mode\n",
      "Opening log/rerun_unnorm__nt4_nob_l2_sm_wtot_gtot_tau1m5_gtau5_df4_gan_lrdecg1m7_lw1/valid_50k_17.hd5 in read-only mode\n"
     ]
    }
   ],
   "source": [
    "lx=[]\n",
    "for x in range(18):\n",
    "    try:\n",
    "        lx += [pd.read_hdf('log/rerun_unnorm__nt4_nob_l2_sm_wtot_gtot_tau1m5_gtau5_df4_gan_lrdecg1m7_lw1/valid_50k_'+str(x)+'.hd5')]\n",
    "    except: \n",
    "        pass\n",
    "[df0, df1, df2, df3, df4, df5, df6, df7, df8, df9, df10, df11, df12, df13,df14,df15,df16] = lx"
   ]
  },
  {
   "cell_type": "code",
   "execution_count": 8,
   "metadata": {},
   "outputs": [],
   "source": [
    "def ks_percentile_sum(var,ep_list,epoch): # For given var and epoch, return sum of ks values at different percentiles\n",
    "    x = ep_list[epoch]\n",
    "    ks_values = []\n",
    "    pt = x['pt']\n",
    "    dx5 = np.percentile(pt,np.linspace(0,100,6))   # pt percentile values\n",
    "    for i in np.arange(1,len(dx5)):                # pt percentile loop\n",
    "        upper, lower = dx5[i], dx5[i-1]\n",
    "        var_pred = x['pred_'+var][(pt>=lower)&(pt<upper)]\n",
    "        var_reco = x['reco_'+var][(pt>=lower)&(pt<upper)]\n",
    "        ks_values += [stats.ks_2samp(var_pred,var_reco)[0]]\n",
    "    return sum(ks_values)"
   ]
  },
  {
   "cell_type": "code",
   "execution_count": 11,
   "metadata": {},
   "outputs": [],
   "source": [
    "def minimizing_epoch(var,epoch_list):    # Epoch that minimizes the ks score for given variable\n",
    "    min_ep, min_sum = None, None\n",
    "    for ep in range(len(epoch_list)):\n",
    "        ks_psum = ks_percentile_sum(var,epoch_list, ep)\n",
    "        if (min_sum==None or ks_psum < min_sum): min_ep, min_sum = ep, ks_psum\n",
    "    return min_ep\n",
    "\n",
    "def minimizing_epoch_sum(var_list,epoch_list):   # Epoch that minimizes the sum of ks scores for given variables\n",
    "    min_ep, min_sum = None, None\n",
    "    for ep in range(len(epoch_list)):\n",
    "        ks_var_sum = sum([ks_percentile_sum(v,epoch_list,ep) for v in var_list])\n",
    "        if (min_sum==None or ks_var_sum < min_sum): min_ep, min_sum = ep, ks_var_sum\n",
    "    return min_ep"
   ]
  },
  {
   "cell_type": "code",
   "execution_count": 21,
   "metadata": {},
   "outputs": [
    {
     "name": "stdout",
     "output_type": "stream",
     "text": [
      "ks value minimizing epoch for maja : 8\n",
      "ks value minimizing epoch for mina : 8\n",
      "ks value minimizing epoch for ptD : 7\n",
      "ks value minimizing epoch for tau1 : 10\n",
      "ks value minimizing epoch for tau2 : 10\n",
      "ks value minimizing epoch for tau21 : 8\n",
      "ks value minimizing epoch for tau3 : 8\n",
      "ks value minimizing epoch for tau32 : 12\n",
      "ks value minimizing epoch for total : 7\n",
      "ks value minimizing epoch for sum of rings:  14\n"
     ]
    }
   ],
   "source": [
    "tested_vars = ['maja', 'mina', 'ptD', 'tau1', 'tau2', 'tau21', 'tau3', 'tau32', 'total']\n",
    "tested_rings = ['ring0','ring1', 'ring2', 'ring3', 'ring4']\n",
    "\n",
    "\n",
    "min_eps = []\n",
    "for v in tested_vars:\n",
    "    ep = minimizing_epoch(v, lx)\n",
    "    print(\"ks value minimizing epoch for\",v,':', ep)\n",
    "    min_eps +=[ep]\n",
    "print(\"ks value minimizing epoch for sum of rings: \", minimizing_epoch_sum(tested_rings,lx))"
   ]
  },
  {
   "cell_type": "code",
   "execution_count": 22,
   "metadata": {},
   "outputs": [
    {
     "data": {
      "image/png": "[encoded data removed]",
      "text/plain": [
       "<matplotlib.figure.Figure at 0x2ade710a54e0>"
      ]
     },
     "metadata": {},
     "output_type": "display_data"
    }
   ],
   "source": [
    "plt.hist(min_eps, bins=max(min_eps)-min(min_eps))\n",
    "plt.title('KS value-minimizing epoch (single variables)')\n",
    "plt.show()"
   ]
  },
  {
   "cell_type": "code",
   "execution_count": null,
   "metadata": {},
   "outputs": [],
   "source": []
  }
 ],
 "metadata": {
  "kernelspec": {
   "display_name": "Python 3",
   "language": "python",
   "name": "python3"
  },
  "language_info": {
   "codemirror_mode": {
    "name": "ipython",
    "version": 3
   },
   "file_extension": ".py",
   "mimetype": "text/x-python",
   "name": "python",
   "nbconvert_exporter": "python",
   "pygments_lexer": "ipython3",
   "version": "3.5.2"
  }
 },
 "nbformat": 4,
 "nbformat_minor": 2
}
