{
 "cells": [
  {
   "cell_type": "code",
   "execution_count": 1,
   "metadata": {
    "collapsed": false
   },
   "outputs": [
    {
     "data": {
      "application/javascript": [
       "require(['codemirror/mode/clike/clike'], function(Clike) { console.log('ROOTaaS - C++ CodeMirror module loaded'); });"
      ]
     },
     "metadata": {},
     "output_type": "display_data"
    },
    {
     "data": {
      "application/javascript": [
       "IPython.CodeCell.config_defaults.highlight_modes['magic_text/x-c++src'] = {'reg':[/^%%cpp/]};"
      ]
     },
     "metadata": {},
     "output_type": "display_data"
    },
    {
     "name": "stdout",
     "output_type": "stream",
     "text": [
      "Welcome to ROOTaaS 6.06/05\n"
     ]
    }
   ],
   "source": [
    "import ganja.io as io\n",
    "import ganja.preprocessing as preprocessing\n",
    "import ganja.utils as utils"
   ]
  },
  {
   "cell_type": "code",
   "execution_count": 2,
   "metadata": {
    "collapsed": false
   },
   "outputs": [
    {
     "data": {
      "text/plain": [
       "{'BASE': u'/mnt/t3nfs01/data01/shome/pandolf/CMSSW_5_3_32_Ganja/src/Ganja/GanjaTree/test/prod_oct25_v0',\n",
       " 'FOLDER': u'QCD_Pt_80to120',\n",
       " 'IJOB': 0,\n",
       " 'INPFILES': u'output/ganjaTree_[0123].root',\n",
       " 'OUTDIR': u'.',\n",
       " 'PROD': u'prod_oct25_v0'}"
      ]
     },
     "execution_count": 2,
     "metadata": {},
     "output_type": "execute_result"
    }
   ],
   "source": [
    "reload(io)\n",
    "reload(preprocessing)\n",
    "\n",
    "# import ROOT as RT\n",
    "\n",
    "from glob import glob\n",
    "\n",
    "class Parameters(utils.Parameters):\n",
    "    base = utils.param('/mnt/t3nfs01/data01/shome/pandolf/CMSSW_5_3_32_Ganja/src/Ganja/GanjaTree/test')\n",
    "    prod = utils.param('prod_oct25_v0')\n",
    "    folder = utils.param('QCD_Pt_80to120')\n",
    "    \n",
    "    inpfiles = utils.param('output/ganjaTree_[0123].root')\n",
    "    ijob = utils.param(0)\n",
    "    outdir = utils.param('.')\n",
    "\n",
    "class MyApp(utils.MyApp):\n",
    "    classes = utils.List([Parameters])\n",
    "\n",
    "# Read all parameters above from command line. \n",
    "# Note: names are all converted to be all capital\n",
    "notebook_parameters = Parameters(MyApp()).get_params()\n",
    "\n",
    "notebook_parameters['BASE'] += '/'+notebook_parameters['PROD']\n",
    "\n",
    "# copy parameters to global scope\n",
    "globals().update(notebook_parameters)\n",
    "\n",
    "notebook_parameters"
   ]
  },
  {
   "cell_type": "code",
   "execution_count": 3,
   "metadata": {
    "collapsed": false
   },
   "outputs": [
    {
     "name": "stdout",
     "output_type": "stream",
     "text": [
      "CPU times: user 2min 49s, sys: 31.8 s, total: 3min 21s\n",
      "Wall time: 3min 34s\n"
     ]
    }
   ],
   "source": [
    "fnames = glob(BASE+'/'+FOLDER+'/'+INPFILES)\n",
    "\n",
    "#arr,gen,reco \n",
    "%time df,gen,reco = io.read_root(fnames,'ganja/ganjaTree',rebin_as=(24,24,1),post_process=preprocessing.rescale_by_pt)"
   ]
  },
  {
   "cell_type": "code",
   "execution_count": 4,
   "metadata": {
    "collapsed": false
   },
   "outputs": [],
   "source": [
    "# import gc\n",
    "# gc.collect()"
   ]
  },
  {
   "cell_type": "code",
   "execution_count": 5,
   "metadata": {
    "collapsed": false
   },
   "outputs": [
    {
     "name": "stdout",
     "output_type": "stream",
     "text": [
      "(139377, 278753, 1.9999928252150643)\n"
     ]
    }
   ],
   "source": [
    "# reload(utils)\n",
    "\n",
    "nevents = utils.read_nevents(fnames,BASE,'data/%s.json' % PROD)\n",
    "njets = gen.shape[0]\n",
    "\n",
    "print(nevents,njets,float(njets)/nevents)"
   ]
  },
  {
   "cell_type": "code",
   "execution_count": 6,
   "metadata": {
    "collapsed": false
   },
   "outputs": [
    {
     "data": {
      "text/html": [
       "<div>\n",
       "<table border=\"1\" class=\"dataframe\">\n",
       "  <thead>\n",
       "    <tr style=\"text-align: right;\">\n",
       "      <th></th>\n",
       "      <th>eta</th>\n",
       "      <th>etaGen</th>\n",
       "      <th>nPU</th>\n",
       "      <th>phi</th>\n",
       "      <th>phiGen</th>\n",
       "      <th>pt</th>\n",
       "      <th>ptGen</th>\n",
       "      <th>rho</th>\n",
       "    </tr>\n",
       "  </thead>\n",
       "  <tbody>\n",
       "    <tr>\n",
       "      <th>count</th>\n",
       "      <td>278753.000000</td>\n",
       "      <td>278753.000000</td>\n",
       "      <td>278753.000000</td>\n",
       "      <td>278753.000000</td>\n",
       "      <td>278753.000000</td>\n",
       "      <td>278753.000000</td>\n",
       "      <td>278753.000000</td>\n",
       "      <td>278753.000000</td>\n",
       "    </tr>\n",
       "    <tr>\n",
       "      <th>mean</th>\n",
       "      <td>0.001560</td>\n",
       "      <td>0.001717</td>\n",
       "      <td>8.760587</td>\n",
       "      <td>-0.006375</td>\n",
       "      <td>-0.006193</td>\n",
       "      <td>84.136650</td>\n",
       "      <td>85.264732</td>\n",
       "      <td>5.423602</td>\n",
       "    </tr>\n",
       "    <tr>\n",
       "      <th>std</th>\n",
       "      <td>1.546206</td>\n",
       "      <td>1.547175</td>\n",
       "      <td>4.434288</td>\n",
       "      <td>1.813907</td>\n",
       "      <td>1.813920</td>\n",
       "      <td>21.921953</td>\n",
       "      <td>20.877436</td>\n",
       "      <td>2.972960</td>\n",
       "    </tr>\n",
       "    <tr>\n",
       "      <th>min</th>\n",
       "      <td>-4.501621</td>\n",
       "      <td>-4.513649</td>\n",
       "      <td>0.000000</td>\n",
       "      <td>-3.141585</td>\n",
       "      <td>-3.141544</td>\n",
       "      <td>3.125484</td>\n",
       "      <td>7.847940</td>\n",
       "      <td>0.000000</td>\n",
       "    </tr>\n",
       "    <tr>\n",
       "      <th>25%</th>\n",
       "      <td>-1.136170</td>\n",
       "      <td>-1.137650</td>\n",
       "      <td>5.000000</td>\n",
       "      <td>-1.585405</td>\n",
       "      <td>-1.584073</td>\n",
       "      <td>69.903244</td>\n",
       "      <td>72.567772</td>\n",
       "      <td>3.201449</td>\n",
       "    </tr>\n",
       "    <tr>\n",
       "      <th>50%</th>\n",
       "      <td>-0.000952</td>\n",
       "      <td>-0.000904</td>\n",
       "      <td>8.000000</td>\n",
       "      <td>-0.004899</td>\n",
       "      <td>-0.004641</td>\n",
       "      <td>83.406845</td>\n",
       "      <td>84.642487</td>\n",
       "      <td>4.944962</td>\n",
       "    </tr>\n",
       "    <tr>\n",
       "      <th>75%</th>\n",
       "      <td>1.139770</td>\n",
       "      <td>1.142160</td>\n",
       "      <td>12.000000</td>\n",
       "      <td>1.558699</td>\n",
       "      <td>1.560490</td>\n",
       "      <td>97.362846</td>\n",
       "      <td>97.480988</td>\n",
       "      <td>7.141886</td>\n",
       "    </tr>\n",
       "    <tr>\n",
       "      <th>max</th>\n",
       "      <td>4.500745</td>\n",
       "      <td>4.563290</td>\n",
       "      <td>37.000000</td>\n",
       "      <td>3.141581</td>\n",
       "      <td>3.141551</td>\n",
       "      <td>252.922119</td>\n",
       "      <td>272.560791</td>\n",
       "      <td>24.457174</td>\n",
       "    </tr>\n",
       "  </tbody>\n",
       "</table>\n",
       "</div>"
      ],
      "text/plain": [
       "                 eta         etaGen            nPU            phi  \\\n",
       "count  278753.000000  278753.000000  278753.000000  278753.000000   \n",
       "mean        0.001560       0.001717       8.760587      -0.006375   \n",
       "std         1.546206       1.547175       4.434288       1.813907   \n",
       "min        -4.501621      -4.513649       0.000000      -3.141585   \n",
       "25%        -1.136170      -1.137650       5.000000      -1.585405   \n",
       "50%        -0.000952      -0.000904       8.000000      -0.004899   \n",
       "75%         1.139770       1.142160      12.000000       1.558699   \n",
       "max         4.500745       4.563290      37.000000       3.141581   \n",
       "\n",
       "              phiGen             pt          ptGen            rho  \n",
       "count  278753.000000  278753.000000  278753.000000  278753.000000  \n",
       "mean       -0.006193      84.136650      85.264732       5.423602  \n",
       "std         1.813920      21.921953      20.877436       2.972960  \n",
       "min        -3.141544       3.125484       7.847940       0.000000  \n",
       "25%        -1.584073      69.903244      72.567772       3.201449  \n",
       "50%        -0.004641      83.406845      84.642487       4.944962  \n",
       "75%         1.560490      97.362846      97.480988       7.141886  \n",
       "max         3.141551     252.922119     272.560791      24.457174  "
      ]
     },
     "execution_count": 6,
     "metadata": {},
     "output_type": "execute_result"
    }
   ],
   "source": [
    "df.describe()"
   ]
  },
  {
   "cell_type": "code",
   "execution_count": 7,
   "metadata": {
    "collapsed": false
   },
   "outputs": [],
   "source": [
    "def show(img,gen,reco,df):\n",
    "    row = df.loc[img]\n",
    "    # print(row)\n",
    "    plt.figure(figsize=(15,3.5))\n",
    "    plt.subplot(131)\n",
    "    plt.title(\"gen (pt,eta) = (%1.2g,%1.2g)\" % (row.ptGen,row.etaGen) )\n",
    "    plt.xlabel('$\\Delta \\eta$')\n",
    "    plt.ylabel('$\\Delta \\phi$')    \n",
    "    plt.imshow(gen[img,:,:,0],cmap='Reds')\n",
    "    plt.colorbar()\n",
    "    plt.subplot(132)\n",
    "    plt.title(\"reco (pt,eta) = (%1.2g,%1.2g)\" % (row.pt,row.eta) )\n",
    "    plt.xlabel('$\\Delta \\eta$')\n",
    "    plt.ylabel('$\\Delta \\phi$')    \n",
    "    plt.imshow(reco[img,:,:,0],cmap='Reds')\n",
    "    plt.colorbar()\n",
    "    plt.subplot(133)\n",
    "    plt.title(\"reco-true (GeV/area)\" )\n",
    "    plt.xlabel('$\\Delta \\eta$')\n",
    "    plt.ylabel('$\\Delta \\phi$')    \n",
    "    plt.imshow( (reco[img,:,:,0]-gen[img,:,:,0])*row.ptGen,vmin=-5,vmax=5)\n",
    "    plt.colorbar()\n",
    "    plt.show()"
   ]
  },
  {
   "cell_type": "code",
   "execution_count": 8,
   "metadata": {
    "collapsed": false
   },
   "outputs": [
    {
     "data": {
      "image/png": "[encoded data removed]",
      "text/plain": [
       "<matplotlib.figure.Figure at 0x7fae51a6c810>"
      ]
     },
     "metadata": {},
     "output_type": "display_data"
    },
    {
     "data": {
      "image/png": "[encoded data removed]",
      "text/plain": [
       "<matplotlib.figure.Figure at 0x7fae50045a50>"
      ]
     },
     "metadata": {},
     "output_type": "display_data"
    },
    {
     "data": {
      "image/png": "[encoded data removed]",
      "text/plain": [
       "<matplotlib.figure.Figure at 0x7fae4fa0a550>"
      ]
     },
     "metadata": {},
     "output_type": "display_data"
    }
   ],
   "source": [
    "random_images = np.random.choice(df.index.values, 3)\n",
    "\n",
    "for img in random_images:\n",
    "    show(img,gen,reco,df)"
   ]
  },
  {
   "cell_type": "code",
   "execution_count": 9,
   "metadata": {
    "collapsed": false
   },
   "outputs": [],
   "source": [
    "import os\n",
    "# reload(io)\n",
    "\n",
    "outdir = OUTDIR+'/'+PROD\n",
    "if not os.path.exists(outdir):\n",
    "    os.mkdir(outdir)\n",
    "\n",
    "io.write_out(outdir,FOLDER,IJOB,{'fnames' : fnames, 'nevents' : nevents}, df, gen, reco)"
   ]
  },
  {
   "cell_type": "code",
   "execution_count": 10,
   "metadata": {
    "collapsed": true
   },
   "outputs": [],
   "source": [
    "# del df\n",
    "# del gen\n",
    "# del reco\n",
    "# # gc.collect()"
   ]
  },
  {
   "cell_type": "code",
   "execution_count": 11,
   "metadata": {
    "collapsed": false
   },
   "outputs": [],
   "source": [
    "# gc.collect()"
   ]
  },
  {
   "cell_type": "code",
   "execution_count": null,
   "metadata": {
    "collapsed": true
   },
   "outputs": [],
   "source": []
  },
  {
   "cell_type": "code",
   "execution_count": null,
   "metadata": {
    "collapsed": false
   },
   "outputs": [],
   "source": []
  },
  {
   "cell_type": "code",
   "execution_count": null,
   "metadata": {
    "collapsed": true
   },
   "outputs": [],
   "source": []
  }
 ],
 "metadata": {
  "anaconda-cloud": {},
  "kernelspec": {
   "display_name": "Python [default]",
   "language": "python",
   "name": "python2"
  },
  "language_info": {
   "codemirror_mode": {
    "name": "ipython",
    "version": 2
   },
   "file_extension": ".py",
   "mimetype": "text/x-python",
   "name": "python",
   "nbconvert_exporter": "python",
   "pygments_lexer": "ipython2",
   "version": "2.7.12"
  }
 },
 "nbformat": 4,
 "nbformat_minor": 1
}
