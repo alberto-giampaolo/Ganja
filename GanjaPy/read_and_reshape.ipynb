{
 "cells": [
  {
   "cell_type": "code",
   "execution_count": 1,
   "metadata": {
    "collapsed": false
   },
   "outputs": [
    {
     "data": {
      "application/javascript": [
       "require(['codemirror/mode/clike/clike'], function(Clike) { console.log('ROOTaaS - C++ CodeMirror module loaded'); });"
      ]
     },
     "metadata": {},
     "output_type": "display_data"
    },
    {
     "data": {
      "application/javascript": [
       "IPython.CodeCell.config_defaults.highlight_modes['magic_text/x-c++src'] = {'reg':[/^%%cpp/]};"
      ]
     },
     "metadata": {},
     "output_type": "display_data"
    },
    {
     "name": "stdout",
     "output_type": "stream",
     "text": [
      "Welcome to ROOTaaS 6.06/05\n"
     ]
    }
   ],
   "source": [
    "import ganja.io as io\n",
    "import ganja.preprocessing as preprocessing\n",
    "import ganja.utils as utils"
   ]
  },
  {
   "cell_type": "code",
   "execution_count": 20,
   "metadata": {
    "collapsed": false
   },
   "outputs": [
    {
     "data": {
      "text/plain": [
       "{'BASE': u'/scratch/musella/ganja/production/nov2',\n",
       " 'FOLDER': u'QCD_Pt_30to50',\n",
       " 'IJOB': 0,\n",
       " 'INPFILES': u'ganjaTree_0.root',\n",
       " 'OUTDIR': u'.',\n",
       " 'PROD': u'nov2'}"
      ]
     },
     "execution_count": 20,
     "metadata": {},
     "output_type": "execute_result"
    }
   ],
   "source": [
    "reload(io)\n",
    "reload(preprocessing)\n",
    "\n",
    "# import ROOT as RT\n",
    "\n",
    "from glob import glob\n",
    "\n",
    "class Parameters(utils.Parameters):\n",
    "    base = utils.param('/scratch/musella/ganja/production')\n",
    "    prod = utils.param('nov2')\n",
    "    folder = utils.param('QCD_Pt_30to50')\n",
    "    \n",
    "    inpfiles = utils.param('ganjaTree_0.root')\n",
    "    ijob = utils.param(0)\n",
    "    outdir = utils.param('.')\n",
    "\n",
    "class MyApp(utils.MyApp):\n",
    "    classes = utils.List([Parameters])\n",
    "\n",
    "# Read all parameters above from command line. \n",
    "# Note: names are all converted to be all capital\n",
    "notebook_parameters = Parameters(MyApp()).get_params()\n",
    "\n",
    "notebook_parameters['BASE'] += '/'+notebook_parameters['PROD']\n",
    "\n",
    "# copy parameters to global scope\n",
    "globals().update(notebook_parameters)\n",
    "\n",
    "notebook_parameters"
   ]
  },
  {
   "cell_type": "code",
   "execution_count": 21,
   "metadata": {
    "collapsed": false
   },
   "outputs": [
    {
     "name": "stdout",
     "output_type": "stream",
     "text": [
      "CPU times: user 48 s, sys: 4.53 s, total: 52.5 s\n",
      "Wall time: 54.9 s\n"
     ]
    }
   ],
   "source": [
    "fnames = glob(BASE+'/'+FOLDER+'/'+INPFILES)\n",
    "\n",
    "#arr,gen,reco \n",
    "%time df,gen,reco = io.read_root(fnames,'ganja/ganjaTree',inpshape=(130,130,1),crop_left=1,rebin_as=(32,32,1)) #,post_process=preprocessing.rescale_by_pt)"
   ]
  },
  {
   "cell_type": "code",
   "execution_count": 22,
   "metadata": {
    "collapsed": false
   },
   "outputs": [],
   "source": [
    "# import gc\n",
    "# gc.collect()"
   ]
  },
  {
   "cell_type": "code",
   "execution_count": 36,
   "metadata": {
    "collapsed": false
   },
   "outputs": [],
   "source": [
    "# reload(utils)\n",
    "\n",
    "try:\n",
    "    nevents = utils.read_nevents(fnames,BASE,'data/%s.json' % PROD)\n",
    "    njets = gen.shape[0]\n",
    "\n",
    "    print(nevents,njets,float(njets)/nevents)\n",
    "except:\n",
    "    nevents = -1"
   ]
  },
  {
   "cell_type": "code",
   "execution_count": 33,
   "metadata": {
    "collapsed": false
   },
   "outputs": [
    {
     "data": {
      "text/html": [
       "<div>\n",
       "<table border=\"1\" class=\"dataframe\">\n",
       "  <thead>\n",
       "    <tr style=\"text-align: right;\">\n",
       "      <th></th>\n",
       "      <th>eta</th>\n",
       "      <th>etaGen</th>\n",
       "      <th>nPU</th>\n",
       "      <th>phi</th>\n",
       "      <th>phiGen</th>\n",
       "      <th>pt</th>\n",
       "      <th>ptGen</th>\n",
       "      <th>rho</th>\n",
       "    </tr>\n",
       "  </thead>\n",
       "  <tbody>\n",
       "    <tr>\n",
       "      <th>count</th>\n",
       "      <td>55484.000000</td>\n",
       "      <td>55484.000000</td>\n",
       "      <td>55484.000000</td>\n",
       "      <td>55484.000000</td>\n",
       "      <td>55484.000000</td>\n",
       "      <td>55484.000000</td>\n",
       "      <td>55484.000000</td>\n",
       "      <td>55484.000000</td>\n",
       "    </tr>\n",
       "    <tr>\n",
       "      <th>mean</th>\n",
       "      <td>-7.426133</td>\n",
       "      <td>0.010878</td>\n",
       "      <td>8.770276</td>\n",
       "      <td>0.001811</td>\n",
       "      <td>-0.001283</td>\n",
       "      <td>33.425213</td>\n",
       "      <td>32.393879</td>\n",
       "      <td>5.334974</td>\n",
       "    </tr>\n",
       "    <tr>\n",
       "      <th>std</th>\n",
       "      <td>85.891968</td>\n",
       "      <td>1.917750</td>\n",
       "      <td>4.438356</td>\n",
       "      <td>1.808155</td>\n",
       "      <td>1.815163</td>\n",
       "      <td>11.573483</td>\n",
       "      <td>9.746435</td>\n",
       "      <td>2.965174</td>\n",
       "    </tr>\n",
       "    <tr>\n",
       "      <th>min</th>\n",
       "      <td>-999.000000</td>\n",
       "      <td>-5.770833</td>\n",
       "      <td>0.000000</td>\n",
       "      <td>-3.141352</td>\n",
       "      <td>-3.141532</td>\n",
       "      <td>0.000000</td>\n",
       "      <td>6.063566</td>\n",
       "      <td>0.000000</td>\n",
       "    </tr>\n",
       "    <tr>\n",
       "      <th>25%</th>\n",
       "      <td>-1.442560</td>\n",
       "      <td>-1.419798</td>\n",
       "      <td>5.000000</td>\n",
       "      <td>-1.559139</td>\n",
       "      <td>-1.572909</td>\n",
       "      <td>25.696829</td>\n",
       "      <td>25.742838</td>\n",
       "      <td>3.126506</td>\n",
       "    </tr>\n",
       "    <tr>\n",
       "      <th>50%</th>\n",
       "      <td>-0.019014</td>\n",
       "      <td>-0.000578</td>\n",
       "      <td>8.000000</td>\n",
       "      <td>0.000000</td>\n",
       "      <td>0.007497</td>\n",
       "      <td>32.568409</td>\n",
       "      <td>31.528568</td>\n",
       "      <td>4.854292</td>\n",
       "    </tr>\n",
       "    <tr>\n",
       "      <th>75%</th>\n",
       "      <td>1.421616</td>\n",
       "      <td>1.442589</td>\n",
       "      <td>12.000000</td>\n",
       "      <td>1.554263</td>\n",
       "      <td>1.565140</td>\n",
       "      <td>40.299592</td>\n",
       "      <td>37.985374</td>\n",
       "      <td>7.042256</td>\n",
       "    </tr>\n",
       "    <tr>\n",
       "      <th>max</th>\n",
       "      <td>5.076285</td>\n",
       "      <td>5.264451</td>\n",
       "      <td>29.000000</td>\n",
       "      <td>3.141535</td>\n",
       "      <td>3.141487</td>\n",
       "      <td>113.313782</td>\n",
       "      <td>105.946205</td>\n",
       "      <td>23.506729</td>\n",
       "    </tr>\n",
       "  </tbody>\n",
       "</table>\n",
       "</div>"
      ],
      "text/plain": [
       "                eta        etaGen           nPU           phi        phiGen  \\\n",
       "count  55484.000000  55484.000000  55484.000000  55484.000000  55484.000000   \n",
       "mean      -7.426133      0.010878      8.770276      0.001811     -0.001283   \n",
       "std       85.891968      1.917750      4.438356      1.808155      1.815163   \n",
       "min     -999.000000     -5.770833      0.000000     -3.141352     -3.141532   \n",
       "25%       -1.442560     -1.419798      5.000000     -1.559139     -1.572909   \n",
       "50%       -0.019014     -0.000578      8.000000      0.000000      0.007497   \n",
       "75%        1.421616      1.442589     12.000000      1.554263      1.565140   \n",
       "max        5.076285      5.264451     29.000000      3.141535      3.141487   \n",
       "\n",
       "                 pt         ptGen           rho  \n",
       "count  55484.000000  55484.000000  55484.000000  \n",
       "mean      33.425213     32.393879      5.334974  \n",
       "std       11.573483      9.746435      2.965174  \n",
       "min        0.000000      6.063566      0.000000  \n",
       "25%       25.696829     25.742838      3.126506  \n",
       "50%       32.568409     31.528568      4.854292  \n",
       "75%       40.299592     37.985374      7.042256  \n",
       "max      113.313782    105.946205     23.506729  "
      ]
     },
     "execution_count": 33,
     "metadata": {},
     "output_type": "execute_result"
    }
   ],
   "source": [
    "df.describe()"
   ]
  },
  {
   "cell_type": "code",
   "execution_count": 34,
   "metadata": {
    "collapsed": false
   },
   "outputs": [],
   "source": [
    "def show(img,gen,reco,df):\n",
    "    row = df.loc[img]\n",
    "    # print(row)\n",
    "    plt.figure(figsize=(15,3.5))\n",
    "    plt.subplot(131)\n",
    "    plt.title(\"gen (pt,eta) = (%1.2g,%1.2g)\" % (row.ptGen,row.etaGen) )\n",
    "    plt.xlabel('$i\\eta$')\n",
    "    plt.ylabel('$i\\phi$')    \n",
    "    plt.imshow(gen[img,:,:,0],cmap='Reds')\n",
    "    plt.colorbar()\n",
    "    plt.subplot(132)\n",
    "    plt.title(\"reco (pt,eta) = (%1.2g,%1.2g)\" % (row.pt,row.eta) )\n",
    "    plt.xlabel('$i\\eta$')\n",
    "    plt.ylabel('$i\\phi$')    \n",
    "    plt.imshow(reco[img,:,:,0],cmap='Reds')\n",
    "    plt.colorbar()\n",
    "    plt.subplot(133)\n",
    "    plt.title(\"reco-true (GeV/area)\" )\n",
    "    plt.xlabel('$i\\eta$')\n",
    "    plt.ylabel('$i\\phi$')    \n",
    "    plt.imshow( (reco[img,:,:,0]-gen[img,:,:,0])*row.ptGen,vmin=-5,vmax=5)\n",
    "    plt.colorbar()\n",
    "    plt.show()"
   ]
  },
  {
   "cell_type": "code",
   "execution_count": 37,
   "metadata": {
    "collapsed": false
   },
   "outputs": [
    {
     "data": {
      "image/png": "[encoded data removed]",
      "text/plain": [
       "<matplotlib.figure.Figure at 0x7fbe76db8b90>"
      ]
     },
     "metadata": {},
     "output_type": "display_data"
    },
    {
     "data": {
      "image/png": "[encoded data removed]",
      "text/plain": [
       "<matplotlib.figure.Figure at 0x7fbe77222610>"
      ]
     },
     "metadata": {},
     "output_type": "display_data"
    },
    {
     "data": {
      "image/png": "[encoded data removed]",
      "text/plain": [
       "<matplotlib.figure.Figure at 0x7fbe7736c510>"
      ]
     },
     "metadata": {},
     "output_type": "display_data"
    }
   ],
   "source": [
    "random_images = np.random.choice(df.index.values, 3)\n",
    "\n",
    "for img in random_images:\n",
    "    show(img,gen,reco,df)"
   ]
  },
  {
   "cell_type": "code",
   "execution_count": 38,
   "metadata": {
    "collapsed": false
   },
   "outputs": [],
   "source": [
    "import os\n",
    "# reload(io)\n",
    "\n",
    "outdir = OUTDIR+'/'+PROD\n",
    "if not os.path.exists(outdir):\n",
    "    os.mkdir(outdir)\n",
    "\n",
    "io.write_out(outdir,FOLDER,IJOB,{'fnames' : fnames, 'nevents' : nevents}, df, gen, reco)"
   ]
  },
  {
   "cell_type": "code",
   "execution_count": 10,
   "metadata": {
    "collapsed": true
   },
   "outputs": [],
   "source": [
    "# del df\n",
    "# del gen\n",
    "# del reco\n",
    "# # gc.collect()"
   ]
  },
  {
   "cell_type": "code",
   "execution_count": 11,
   "metadata": {
    "collapsed": false
   },
   "outputs": [],
   "source": [
    "# gc.collect()"
   ]
  },
  {
   "cell_type": "code",
   "execution_count": null,
   "metadata": {
    "collapsed": true
   },
   "outputs": [],
   "source": []
  },
  {
   "cell_type": "code",
   "execution_count": null,
   "metadata": {
    "collapsed": false
   },
   "outputs": [],
   "source": []
  },
  {
   "cell_type": "code",
   "execution_count": null,
   "metadata": {
    "collapsed": true
   },
   "outputs": [],
   "source": []
  }
 ],
 "metadata": {
  "anaconda-cloud": {},
  "kernelspec": {
   "display_name": "Python [default]",
   "language": "python",
   "name": "python2"
  },
  "language_info": {
   "codemirror_mode": {
    "name": "ipython",
    "version": 2
   },
   "file_extension": ".py",
   "mimetype": "text/x-python",
   "name": "python",
   "nbconvert_exporter": "python",
   "pygments_lexer": "ipython2",
   "version": "2.7.12"
  }
 },
 "nbformat": 4,
 "nbformat_minor": 1
}
