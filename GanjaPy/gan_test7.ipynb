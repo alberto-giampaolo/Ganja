{
 "cells": [
  {
   "cell_type": "code",
   "execution_count": 1,
   "metadata": {},
   "outputs": [
    {
     "name": "stderr",
     "output_type": "stream",
     "text": [
      "Using TensorFlow backend.\n"
     ]
    }
   ],
   "source": [
    "%matplotlib inline\n",
    "import numpy as np\n",
    "import pandas as pd\n",
    "import matplotlib.pyplot as plt\n",
    "import ganja.plotting as plotting\n",
    "from scipy import stats\n",
    "from gan_ks import *\n",
    "import matplotlib\n",
    "matplotlib.style.use('seaborn-poster')"
   ]
  },
  {
   "cell_type": "code",
   "execution_count": 2,
   "metadata": {
    "scrolled": true
   },
   "outputs": [
    {
     "ename": "ValueError",
     "evalue": "not enough values to unpack (expected 14, got 0)",
     "output_type": "error",
     "traceback": [
      "\u001b[0;31m---------------------------------------------------------------------------\u001b[0m",
      "\u001b[0;31mValueError\u001b[0m                                Traceback (most recent call last)",
      "\u001b[0;32m<ipython-input-2-ad233571e4ea>\u001b[0m in \u001b[0;36m<module>\u001b[0;34m()\u001b[0m\n\u001b[1;32m     14\u001b[0m     \u001b[0;32mexcept\u001b[0m\u001b[0;34m:\u001b[0m\u001b[0;34m\u001b[0m\u001b[0m\n\u001b[1;32m     15\u001b[0m         \u001b[0;32mpass\u001b[0m\u001b[0;34m\u001b[0m\u001b[0m\n\u001b[0;32m---> 16\u001b[0;31m \u001b[0;34m[\u001b[0m\u001b[0mdf0\u001b[0m\u001b[0;34m,\u001b[0m \u001b[0mdf1\u001b[0m\u001b[0;34m,\u001b[0m \u001b[0mdf2\u001b[0m\u001b[0;34m,\u001b[0m \u001b[0mdf3\u001b[0m\u001b[0;34m,\u001b[0m \u001b[0mdf4\u001b[0m\u001b[0;34m,\u001b[0m \u001b[0mdf5\u001b[0m\u001b[0;34m,\u001b[0m \u001b[0mdf6\u001b[0m\u001b[0;34m,\u001b[0m \u001b[0mdf7\u001b[0m\u001b[0;34m,\u001b[0m \u001b[0mdf8\u001b[0m\u001b[0;34m,\u001b[0m \u001b[0mdf9\u001b[0m\u001b[0;34m,\u001b[0m \u001b[0mdf10\u001b[0m\u001b[0;34m,\u001b[0m \u001b[0mdf11\u001b[0m\u001b[0;34m,\u001b[0m \u001b[0mdf12\u001b[0m\u001b[0;34m,\u001b[0m \u001b[0mdf13\u001b[0m\u001b[0;34m]\u001b[0m \u001b[0;34m=\u001b[0m \u001b[0mlx\u001b[0m\u001b[0;34m\u001b[0m\u001b[0m\n\u001b[0m",
      "\u001b[0;31mValueError\u001b[0m: not enough values to unpack (expected 14, got 0)"
     ]
    }
   ],
   "source": [
    "# target = 'log/unnorm_nt4_l2_sm_wtot_gtot_tau5m4_gtau5_df4_gan_lw1'\n",
    "# target = 'log/rerun_unnorm__nt4_nob_l2_sm_wtot_gtot_tau1m5_gtau5_df4_gan_lrdecg6m8_lw1'\n",
    "# target = 'log/rerun_unnorm__nt4_nob_l2_sm_wtot_gtot_tau1m5_gtau5_df4_gan_lrdecg1m2_lw1'\n",
    "# target = 'log/rerun_unnorm__nt4_nob_l2_sm_wtot_gtot_tau1m5_gtau5_df4_gan_lrdecg1m5_lw1'\n",
    "# target = 'log/rerun_unnorm__nt4_nob_l2_sm_wtot_gtot_tau1m5_gtau5_df4_gan_lrdecg1m3_lw1'\n",
    "# target = 'log/rerun_unnorm__nt4_nob_l2_sm_wtot_gtot_tau1m5_gtau5_df4_gan_lrdecg1m7_lw1'\n",
    "target = 'log/rerun_unnorm__nd100_nt4_nob_l2_sm_wtot_gtot_tau2m5_gtau5_df4_gan_lw1'\n",
    "# target = 'log/rerun_unnorm__nd50_nt4_nob_l2_sm_wtot_gtot_tau2m5_gtau5_df4_gan_lw1'\n",
    "\n",
    "lx=[]\n",
    "for x in range(1,15):\n",
    "    try:\n",
    "        lx += [pd.read_hdf('/scratch/snx3000/albertog/'+target+'/valid_100k_'+str(x)+'.hd5')]\n",
    "    except: \n",
    "        pass\n",
    "[df0, df1, df2, df3, df4, df5, df6, df7, df8, df9, df10, df11, df12, df13] = lx"
   ]
  },
  {
   "cell_type": "code",
   "execution_count": null,
   "metadata": {},
   "outputs": [],
   "source": [
    "tested_vars = ['maja', 'mina', 'ptD', 'tau1', 'tau2', 'tau21', 'tau3', 'tau32', 'total']\n",
    "tested_bins = [np.linspace(0,0.3,31),np.linspace(0,0.3,31),np.linspace(0,1,31),\n",
    "              np.linspace(0,20,31),np.linspace(0,20,31),np.linspace(0,1,31),\n",
    "              np.linspace(0,20,31),np.linspace(0,1,31),np.linspace(0,1,31)]\n",
    "\n",
    "tested_rings = ['ring0','ring1', 'ring2', 'ring3', 'ring4']\n",
    "\n",
    "\n",
    "min_eps = []\n",
    "#for v,b in zip(tested_vars,tested_bins):\n",
    "#    ep = minimizing_epoch(v, lx,b)\n",
    "#    print(\"ks value minimizing epoch for\",v,':', ep)\n",
    "#    min_eps +=[ep]\n",
    "print(\"ks value minimizing epoch for sum of rings:\", minimizing_epoch_sum(tested_rings,lx,np.linspace(0,1,31)))"
   ]
  },
  {
   "cell_type": "code",
   "execution_count": null,
   "metadata": {},
   "outputs": [],
   "source": [
    "for v in [\n",
    "        # 'ptD','maja','mina','tau1','tau2','tau3','tau21','tau32',\n",
    "          'ring0', 'ring1', 'ring2', 'ring3', 'ring4', 'total']: \n",
    "    plot_ks(v,lx)"
   ]
  },
  {
   "cell_type": "code",
   "execution_count": null,
   "metadata": {
    "scrolled": true
   },
   "outputs": [],
   "source": [
    "tested_rings = ['ring0','ring1', 'ring2', 'ring3', 'ring4']\n",
    "\n",
    "for ring in tested_rings:\n",
    "    for ep,x in enumerate(lx):\n",
    "        fg=plt.figure(figsize=(15,10))\n",
    "        fg.set_facecolor('white')\n",
    "        pt= x['pt']\n",
    "        dx = np.percentile(pt,np.linspace(0,100,6))\n",
    "        for pc,i in enumerate(np.arange(1,len(dx))): #percentile loop\n",
    "            plt.subplot(2,3,i)\n",
    "            plt.title(\"Epoch %d, Percentile %d, %s\" % (ep,pc,ring))\n",
    "            upper, lower = dx[i], dx[i-1]\n",
    "            ptD_r_ring = x['reco_'+ring][(pt<upper)&(pt>=lower)]\n",
    "            plt.hist(ptD_r_ring,bins=50,range=[0,1])\n",
    "            plt.hist(x['pred_'+ring][(pt>=lower)&(pt<upper)],bins=50,range=[0,1],alpha=0.5)\n",
    "        plt.show()"
   ]
  },
  {
   "cell_type": "code",
   "execution_count": null,
   "metadata": {},
   "outputs": [],
   "source": []
  }
 ],
 "metadata": {
  "kernelspec": {
   "display_name": "Python 3",
   "language": "python",
   "name": "python3"
  },
  "language_info": {
   "codemirror_mode": {
    "name": "ipython",
    "version": 3
   },
   "file_extension": ".py",
   "mimetype": "text/x-python",
   "name": "python",
   "nbconvert_exporter": "python",
   "pygments_lexer": "ipython3",
   "version": "3.5.2"
  }
 },
 "nbformat": 4,
 "nbformat_minor": 2
}
