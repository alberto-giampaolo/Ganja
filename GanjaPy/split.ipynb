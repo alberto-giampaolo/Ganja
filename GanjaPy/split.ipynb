{
 "cells": [
  {
   "cell_type": "code",
   "execution_count": 1,
   "metadata": {
    "collapsed": false
   },
   "outputs": [
    {
     "data": {
      "application/javascript": [
       "require(['codemirror/mode/clike/clike'], function(Clike) { console.log('ROOTaaS - C++ CodeMirror module loaded'); });"
      ]
     },
     "metadata": {},
     "output_type": "display_data"
    },
    {
     "data": {
      "application/javascript": [
       "IPython.CodeCell.config_defaults.highlight_modes['magic_text/x-c++src'] = {'reg':[/^%%cpp/]};"
      ]
     },
     "metadata": {},
     "output_type": "display_data"
    },
    {
     "name": "stdout",
     "output_type": "stream",
     "text": [
      "Welcome to ROOTaaS 6.06/05\n"
     ]
    }
   ],
   "source": [
    "import ganja.io as io\n",
    "import ganja.preprocessing as preprocessing\n",
    "import ganja.utils as utils"
   ]
  },
  {
   "cell_type": "code",
   "execution_count": 2,
   "metadata": {
    "collapsed": false
   },
   "outputs": [
    {
     "data": {
      "text/plain": [
       "{'BASE': u'/scratch/musella/ganja',\n",
       " 'COMPRESS': True,\n",
       " 'NJOBS': 10,\n",
       " 'NPARTS': 100,\n",
       " 'VERSION': u'nov2'}"
      ]
     },
     "execution_count": 2,
     "metadata": {},
     "output_type": "execute_result"
    }
   ],
   "source": [
    "from glob import glob\n",
    "import os\n",
    "\n",
    "reload(io)\n",
    "reload(preprocessing)\n",
    "\n",
    "# import ROOT as RT\n",
    "\n",
    "from glob import glob\n",
    "\n",
    "class Parameters(utils.Parameters):\n",
    "    base = utils.param('/scratch/musella/ganja')\n",
    "    version = utils.param('nov2')\n",
    "    nparts = utils.param(100)\n",
    "    njobs = utils.param(10)\n",
    "    compress = utils.param(True)\n",
    "    \n",
    "class MyApp(utils.MyApp):\n",
    "    classes = utils.List([Parameters])\n",
    "\n",
    "# Read all parameters above from command line. \n",
    "# Note: names are all converted to be all capital\n",
    "notebook_parameters = Parameters(MyApp()).get_params()\n",
    "\n",
    "# copy parameters to global scope\n",
    "globals().update(notebook_parameters)\n",
    "\n",
    "notebook_parameters"
   ]
  },
  {
   "cell_type": "code",
   "execution_count": 3,
   "metadata": {
    "collapsed": false
   },
   "outputs": [],
   "source": [
    "folders = glob(BASE+'/converted/'+VERSION+'/QCD*')\n",
    "\n",
    "inputs = {}\n",
    "for folder in folders:\n",
    "    files = list(map(lambda x: int(os.path.basename(x).replace('.json','')), glob('%s/*.json' % folder) ))\n",
    "    # files = list(map(lambda x: int(os.path.basename(x).replace('.json','')), glob('%s/*.json' % folder)[:10] ))\n",
    "    inputs[folder] = files\n",
    " "
   ]
  },
  {
   "cell_type": "code",
   "execution_count": 4,
   "metadata": {
    "collapsed": false
   },
   "outputs": [
    {
     "name": "stdout",
     "output_type": "stream",
     "text": [
      "\n"
     ]
    }
   ],
   "source": [
    "proc_ids,df = io.read_datasets(inputs)"
   ]
  },
  {
   "cell_type": "code",
   "execution_count": null,
   "metadata": {
    "collapsed": false
   },
   "outputs": [],
   "source": [
    "reload(io)             \n",
    "\n",
    "io.make_partitions(df,NPARTS,proc_ids,BASE+'/split/'+VERSION,n_jobs=NJOBS,compress=COMPRESS)"
   ]
  },
  {
   "cell_type": "code",
   "execution_count": null,
   "metadata": {
    "collapsed": true
   },
   "outputs": [],
   "source": []
  }
 ],
 "metadata": {
  "anaconda-cloud": {},
  "kernelspec": {
   "display_name": "Python [default]",
   "language": "python",
   "name": "python2"
  },
  "language_info": {
   "codemirror_mode": {
    "name": "ipython",
    "version": 2
   },
   "file_extension": ".py",
   "mimetype": "text/x-python",
   "name": "python",
   "nbconvert_exporter": "python",
   "pygments_lexer": "ipython2",
   "version": "2.7.12"
  },
  "widgets": {
   "state": {
    "48808755f80546f38575250d6e79be63": {
     "views": [
      {
       "cell_index": 3
      }
     ]
    }
   },
   "version": "1.2.0"
  }
 },
 "nbformat": 4,
 "nbformat_minor": 1
}
